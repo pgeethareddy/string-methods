{
 "cells": [
  {
   "cell_type": "markdown",
   "id": "a4c18194",
   "metadata": {},
   "source": [
    "#### isdigit()\n",
    "* it is going to return True if all the chars in the string are digits,otherwise it returns False\n",
    "* even space,punchuation marks ,roman numbers are not considered it returns false."
   ]
  },
  {
   "cell_type": "code",
   "execution_count": 1,
   "id": "a4b075da",
   "metadata": {},
   "outputs": [
    {
     "data": {
      "text/plain": [
       "True"
      ]
     },
     "execution_count": 1,
     "metadata": {},
     "output_type": "execute_result"
    }
   ],
   "source": [
    "x='012345'\n",
    "x.isdigit()"
   ]
  },
  {
   "cell_type": "code",
   "execution_count": 2,
   "id": "fce008d3",
   "metadata": {},
   "outputs": [
    {
     "data": {
      "text/plain": [
       "False"
      ]
     },
     "execution_count": 2,
     "metadata": {},
     "output_type": "execute_result"
    }
   ],
   "source": [
    "x='2.45'\n",
    "x.isdigit()#punchuation marks"
   ]
  },
  {
   "cell_type": "code",
   "execution_count": 3,
   "id": "743244df",
   "metadata": {},
   "outputs": [
    {
     "data": {
      "text/plain": [
       "False"
      ]
     },
     "execution_count": 3,
     "metadata": {},
     "output_type": "execute_result"
    }
   ],
   "source": [
    "x='234 56'\n",
    "x.isdigit()#space"
   ]
  },
  {
   "cell_type": "code",
   "execution_count": 12,
   "id": "d40d1918",
   "metadata": {},
   "outputs": [
    {
     "name": "stdout",
     "output_type": "stream",
     "text": [
      "Help on method_descriptor:\n",
      "\n",
      "isdigit(self, /)\n",
      "    Return True if the string is a digit string, False otherwise.\n",
      "    \n",
      "    A string is a digit string if all characters in the string are digits and there\n",
      "    is at least one character in the string.\n",
      "\n"
     ]
    }
   ],
   "source": [
    "help(str.isdigit)"
   ]
  },
  {
   "cell_type": "markdown",
   "id": "9e7ac995",
   "metadata": {},
   "source": [
    "#### istitle()\n",
    "* in this method it is going to check to see if a string begin with an upper case letter and come after it  are lower case letters,otherwise it returns false.\n",
    "* spaces,digits,punchuation marks are also considered."
   ]
  },
  {
   "cell_type": "code",
   "execution_count": 4,
   "id": "236b41b4",
   "metadata": {},
   "outputs": [
    {
     "data": {
      "text/plain": [
       "True"
      ]
     },
     "execution_count": 4,
     "metadata": {},
     "output_type": "execute_result"
    }
   ],
   "source": [
    "x='Social Media Is Very Usefull'\n",
    "x.istitle()"
   ]
  },
  {
   "cell_type": "code",
   "execution_count": 5,
   "id": "e6b1c27d",
   "metadata": {},
   "outputs": [
    {
     "data": {
      "text/plain": [
       "False"
      ]
     },
     "execution_count": 5,
     "metadata": {},
     "output_type": "execute_result"
    }
   ],
   "source": [
    "x='Social media Is Very Usefull'\n",
    "x.istitle()\n"
   ]
  },
  {
   "cell_type": "code",
   "execution_count": 7,
   "id": "5dd46bdf",
   "metadata": {},
   "outputs": [
    {
     "data": {
      "text/plain": [
       "True"
      ]
     },
     "execution_count": 7,
     "metadata": {},
     "output_type": "execute_result"
    }
   ],
   "source": [
    "x='Social Media Is Very Usefull 2'\n",
    "x.istitle()#digits"
   ]
  },
  {
   "cell_type": "code",
   "execution_count": 13,
   "id": "891f23aa",
   "metadata": {},
   "outputs": [
    {
     "name": "stdout",
     "output_type": "stream",
     "text": [
      "Help on method_descriptor:\n",
      "\n",
      "istitle(self, /)\n",
      "    Return True if the string is a title-cased string, False otherwise.\n",
      "    \n",
      "    In a title-cased string, upper- and title-case characters may only\n",
      "    follow uncased characters and lowercase characters only cased ones.\n",
      "\n"
     ]
    }
   ],
   "source": [
    "help(str.istitle)"
   ]
  },
  {
   "cell_type": "markdown",
   "id": "f9f6c183",
   "metadata": {},
   "source": [
    "#### isalnum()\n",
    "* it contains alphanumeric chars includes digits from 0 to 9 as well as A to Z upper and lower case.\n",
    "* it returns true if string only contains alphanumeric characters,otherwise it returns false.\n",
    "* space is also not included."
   ]
  },
  {
   "cell_type": "code",
   "execution_count": 8,
   "id": "0ddadc21",
   "metadata": {},
   "outputs": [
    {
     "data": {
      "text/plain": [
       "True"
      ]
     },
     "execution_count": 8,
     "metadata": {},
     "output_type": "execute_result"
    }
   ],
   "source": [
    "x='ABCabc123'\n",
    "x.isalnum()"
   ]
  },
  {
   "cell_type": "code",
   "execution_count": 9,
   "id": "b61f7d40",
   "metadata": {},
   "outputs": [
    {
     "data": {
      "text/plain": [
       "False"
      ]
     },
     "execution_count": 9,
     "metadata": {},
     "output_type": "execute_result"
    }
   ],
   "source": [
    "x='ABCabc 123'\n",
    "x.isalnum()"
   ]
  },
  {
   "cell_type": "code",
   "execution_count": 10,
   "id": "38407684",
   "metadata": {},
   "outputs": [
    {
     "data": {
      "text/plain": [
       "False"
      ]
     },
     "execution_count": 10,
     "metadata": {},
     "output_type": "execute_result"
    }
   ],
   "source": [
    "x='ABCabc#@123'\n",
    "x.isalnum()"
   ]
  },
  {
   "cell_type": "code",
   "execution_count": 14,
   "id": "7ee9b3f8",
   "metadata": {},
   "outputs": [
    {
     "name": "stdout",
     "output_type": "stream",
     "text": [
      "Help on method_descriptor:\n",
      "\n",
      "isalnum(self, /)\n",
      "    Return True if the string is an alpha-numeric string, False otherwise.\n",
      "    \n",
      "    A string is alpha-numeric if all characters in the string are alpha-numeric and\n",
      "    there is at least one character in the string.\n",
      "\n"
     ]
    }
   ],
   "source": [
    "help(str.isalnum)"
   ]
  },
  {
   "cell_type": "markdown",
   "id": "5699ed49",
   "metadata": {},
   "source": [
    "#### isalpha()\n",
    "* it returns true in a string has only  alphabetical chars,otherwise it returns false.\n",
    "* space,digits other chars are not included."
   ]
  },
  {
   "cell_type": "code",
   "execution_count": 16,
   "id": "51eb3729",
   "metadata": {},
   "outputs": [
    {
     "data": {
      "text/plain": [
       "True"
      ]
     },
     "execution_count": 16,
     "metadata": {},
     "output_type": "execute_result"
    }
   ],
   "source": [
    "x=\"geethahowareu\"\n",
    "x.isalpha()"
   ]
  },
  {
   "cell_type": "code",
   "execution_count": 17,
   "id": "d5e4d06b",
   "metadata": {},
   "outputs": [
    {
     "data": {
      "text/plain": [
       "False"
      ]
     },
     "execution_count": 17,
     "metadata": {},
     "output_type": "execute_result"
    }
   ],
   "source": [
    "x=\"geetha howareu\"\n",
    "x.isalpha()#space"
   ]
  },
  {
   "cell_type": "code",
   "execution_count": 18,
   "id": "125f8f75",
   "metadata": {},
   "outputs": [
    {
     "data": {
      "text/plain": [
       "False"
      ]
     },
     "execution_count": 18,
     "metadata": {},
     "output_type": "execute_result"
    }
   ],
   "source": [
    "x=\"geethahowareu 23\"\n",
    "x.isalpha()#digits"
   ]
  },
  {
   "cell_type": "code",
   "execution_count": 19,
   "id": "f7624aac",
   "metadata": {},
   "outputs": [
    {
     "name": "stdout",
     "output_type": "stream",
     "text": [
      "Help on method_descriptor:\n",
      "\n",
      "isalpha(self, /)\n",
      "    Return True if the string is an alphabetic string, False otherwise.\n",
      "    \n",
      "    A string is alphabetic if all characters in the string are alphabetic and there\n",
      "    is at least one character in the string.\n",
      "\n"
     ]
    }
   ],
   "source": [
    "help(str.isalpha)"
   ]
  },
  {
   "cell_type": "markdown",
   "id": "2f4570b2",
   "metadata": {},
   "source": [
    "#### islower()\n",
    "* it returns true in a string all the letters are lowercase other it returns false"
   ]
  },
  {
   "cell_type": "code",
   "execution_count": 20,
   "id": "5c8a6a70",
   "metadata": {},
   "outputs": [
    {
     "data": {
      "text/plain": [
       "True"
      ]
     },
     "execution_count": 20,
     "metadata": {},
     "output_type": "execute_result"
    }
   ],
   "source": [
    "x=\"geethahowareu\"\n",
    "x.islower()"
   ]
  },
  {
   "cell_type": "code",
   "execution_count": 21,
   "id": "1d50d3c5",
   "metadata": {},
   "outputs": [
    {
     "data": {
      "text/plain": [
       "False"
      ]
     },
     "execution_count": 21,
     "metadata": {},
     "output_type": "execute_result"
    }
   ],
   "source": [
    "x=\"Geetha how are u\"\n",
    "x.islower()"
   ]
  },
  {
   "cell_type": "code",
   "execution_count": 23,
   "id": "3e4d4e2f",
   "metadata": {},
   "outputs": [
    {
     "data": {
      "text/plain": [
       "True"
      ]
     },
     "execution_count": 23,
     "metadata": {},
     "output_type": "execute_result"
    }
   ],
   "source": [
    "x=\"geethahowareuyourrollnois43\"\n",
    "x.islower()"
   ]
  },
  {
   "cell_type": "code",
   "execution_count": 24,
   "id": "53c5d4a4",
   "metadata": {},
   "outputs": [
    {
     "name": "stdout",
     "output_type": "stream",
     "text": [
      "Help on method_descriptor:\n",
      "\n",
      "islower(self, /)\n",
      "    Return True if the string is a lowercase string, False otherwise.\n",
      "    \n",
      "    A string is lowercase if all cased characters in the string are lowercase and\n",
      "    there is at least one cased character in the string.\n",
      "\n"
     ]
    }
   ],
   "source": [
    "help(str.islower)"
   ]
  },
  {
   "cell_type": "markdown",
   "id": "b1892f96",
   "metadata": {},
   "source": [
    "#### isupper()\n",
    "* it returns true in a string all the letters are uppercase other it returns false .\n"
   ]
  },
  {
   "cell_type": "code",
   "execution_count": 25,
   "id": "fa6a5dc1",
   "metadata": {},
   "outputs": [
    {
     "data": {
      "text/plain": [
       "True"
      ]
     },
     "execution_count": 25,
     "metadata": {},
     "output_type": "execute_result"
    }
   ],
   "source": [
    "x='GEETHA IS A GOOD GIRL'\n",
    "x.isupper()"
   ]
  },
  {
   "cell_type": "code",
   "execution_count": 26,
   "id": "bb16cbb4",
   "metadata": {},
   "outputs": [
    {
     "data": {
      "text/plain": [
       "False"
      ]
     },
     "execution_count": 26,
     "metadata": {},
     "output_type": "execute_result"
    }
   ],
   "source": [
    "x='GEETHA IS A GOOD gIRL'\n",
    "x.isupper()"
   ]
  },
  {
   "cell_type": "code",
   "execution_count": 27,
   "id": "2c3eb058",
   "metadata": {},
   "outputs": [
    {
     "data": {
      "text/plain": [
       "True"
      ]
     },
     "execution_count": 27,
     "metadata": {},
     "output_type": "execute_result"
    }
   ],
   "source": [
    "x='GEETHA IS A GOOD GIRL 28 '\n",
    "x.isupper()"
   ]
  },
  {
   "cell_type": "code",
   "execution_count": 28,
   "id": "f435a884",
   "metadata": {},
   "outputs": [
    {
     "name": "stdout",
     "output_type": "stream",
     "text": [
      "Help on method_descriptor:\n",
      "\n",
      "isupper(self, /)\n",
      "    Return True if the string is an uppercase string, False otherwise.\n",
      "    \n",
      "    A string is uppercase if all cased characters in the string are uppercase and\n",
      "    there is at least one cased character in the string.\n",
      "\n"
     ]
    }
   ],
   "source": [
    "help(str.isupper)"
   ]
  },
  {
   "cell_type": "markdown",
   "id": "c8ab2266",
   "metadata": {},
   "source": [
    "#### isdecimal()\n",
    "* to check if a string consists of only decimal characters so 0 to 9.\n",
    "* space,alphabets are there in string gives false."
   ]
  },
  {
   "cell_type": "code",
   "execution_count": 29,
   "id": "e85ab48d",
   "metadata": {},
   "outputs": [
    {
     "data": {
      "text/plain": [
       "True"
      ]
     },
     "execution_count": 29,
     "metadata": {},
     "output_type": "execute_result"
    }
   ],
   "source": [
    "x=\"1234567890\"\n",
    "x.isdecimal()"
   ]
  },
  {
   "cell_type": "code",
   "execution_count": 30,
   "id": "4e9fa33a",
   "metadata": {},
   "outputs": [
    {
     "data": {
      "text/plain": [
       "False"
      ]
     },
     "execution_count": 30,
     "metadata": {},
     "output_type": "execute_result"
    }
   ],
   "source": [
    "x=\"1234567890 \"\n",
    "x.isdecimal()#space"
   ]
  },
  {
   "cell_type": "code",
   "execution_count": 31,
   "id": "2c187d99",
   "metadata": {},
   "outputs": [
    {
     "data": {
      "text/plain": [
       "False"
      ]
     },
     "execution_count": 31,
     "metadata": {},
     "output_type": "execute_result"
    }
   ],
   "source": [
    "x=\"1234567890abc\"\n",
    "x.isdecimal()"
   ]
  },
  {
   "cell_type": "code",
   "execution_count": 32,
   "id": "bdcea3bc",
   "metadata": {},
   "outputs": [
    {
     "name": "stdout",
     "output_type": "stream",
     "text": [
      "Help on method_descriptor:\n",
      "\n",
      "isdecimal(self, /)\n",
      "    Return True if the string is a decimal string, False otherwise.\n",
      "    \n",
      "    A string is a decimal string if all characters in the string are decimal and\n",
      "    there is at least one character in the string.\n",
      "\n"
     ]
    }
   ],
   "source": [
    "help(str.isdecimal)"
   ]
  },
  {
   "cell_type": "markdown",
   "id": "8f9bb0ac",
   "metadata": {},
   "source": [
    "#### isspace()\n",
    "* to check if all  of the chars in astring are white space chars."
   ]
  },
  {
   "cell_type": "code",
   "execution_count": 33,
   "id": "88e02286",
   "metadata": {},
   "outputs": [
    {
     "data": {
      "text/plain": [
       "True"
      ]
     },
     "execution_count": 33,
     "metadata": {},
     "output_type": "execute_result"
    }
   ],
   "source": [
    "x=' '\n",
    "x.isspace()"
   ]
  },
  {
   "cell_type": "code",
   "execution_count": 39,
   "id": "1677ef6a",
   "metadata": {},
   "outputs": [
    {
     "data": {
      "text/plain": [
       "True"
      ]
     },
     "execution_count": 39,
     "metadata": {},
     "output_type": "execute_result"
    }
   ],
   "source": [
    "x=' \\n\\n'\n",
    "x.isspace()"
   ]
  },
  {
   "cell_type": "code",
   "execution_count": 40,
   "id": "8d67d588",
   "metadata": {},
   "outputs": [
    {
     "name": "stdout",
     "output_type": "stream",
     "text": [
      "Help on method_descriptor:\n",
      "\n",
      "isspace(self, /)\n",
      "    Return True if the string is a whitespace string, False otherwise.\n",
      "    \n",
      "    A string is whitespace if all characters in the string are whitespace and there\n",
      "    is at least one character in the string.\n",
      "\n"
     ]
    }
   ],
   "source": [
    "help(str.isspace)"
   ]
  },
  {
   "cell_type": "markdown",
   "id": "12e7d08b",
   "metadata": {},
   "source": [
    "#### isnumeric()\n",
    "* it returns true if all the chars in a string are numeric otherwise it returns false.\n",
    "* if even one non-numeric char it returns false\n"
   ]
  },
  {
   "cell_type": "code",
   "execution_count": 41,
   "id": "bd21d8d6",
   "metadata": {},
   "outputs": [
    {
     "data": {
      "text/plain": [
       "True"
      ]
     },
     "execution_count": 41,
     "metadata": {},
     "output_type": "execute_result"
    }
   ],
   "source": [
    "x='1233455'\n",
    "x.isnumeric()"
   ]
  },
  {
   "cell_type": "code",
   "execution_count": 43,
   "id": "e816da05",
   "metadata": {},
   "outputs": [
    {
     "data": {
      "text/plain": [
       "False"
      ]
     },
     "execution_count": 43,
     "metadata": {},
     "output_type": "execute_result"
    }
   ],
   "source": [
    "x='123456aq'\n",
    "x.isnumeric()"
   ]
  },
  {
   "cell_type": "code",
   "execution_count": 44,
   "id": "79cee9e5",
   "metadata": {},
   "outputs": [
    {
     "data": {
      "text/plain": [
       "False"
      ]
     },
     "execution_count": 44,
     "metadata": {},
     "output_type": "execute_result"
    }
   ],
   "source": [
    "x='1233455 '\n",
    "x.isnumeric()"
   ]
  },
  {
   "cell_type": "code",
   "execution_count": 46,
   "id": "1f4a9101",
   "metadata": {},
   "outputs": [
    {
     "data": {
      "text/plain": [
       "False"
      ]
     },
     "execution_count": 46,
     "metadata": {},
     "output_type": "execute_result"
    }
   ],
   "source": [
    "x='123.3455'\n",
    "x.isnumeric()"
   ]
  },
  {
   "cell_type": "code",
   "execution_count": 47,
   "id": "26f0572a",
   "metadata": {},
   "outputs": [
    {
     "name": "stdout",
     "output_type": "stream",
     "text": [
      "Help on method_descriptor:\n",
      "\n",
      "isnumeric(self, /)\n",
      "    Return True if the string is a numeric string, False otherwise.\n",
      "    \n",
      "    A string is numeric if all characters in the string are numeric and there is at\n",
      "    least one character in the string.\n",
      "\n"
     ]
    }
   ],
   "source": [
    "help(str.isnumeric)"
   ]
  },
  {
   "cell_type": "markdown",
   "id": "8388e6cb",
   "metadata": {},
   "source": [
    "#### isprintable()\n",
    "* it returns true if the string contains only printable chars"
   ]
  },
  {
   "cell_type": "code",
   "execution_count": 48,
   "id": "d55cdec3",
   "metadata": {},
   "outputs": [
    {
     "data": {
      "text/plain": [
       "True"
      ]
     },
     "execution_count": 48,
     "metadata": {},
     "output_type": "execute_result"
    }
   ],
   "source": [
    "x='as i said 123 @#'\n",
    "x.isprintable()"
   ]
  },
  {
   "cell_type": "code",
   "execution_count": 49,
   "id": "cb881b7d",
   "metadata": {},
   "outputs": [
    {
     "name": "stdout",
     "output_type": "stream",
     "text": [
      "Help on method_descriptor:\n",
      "\n",
      "isprintable(self, /)\n",
      "    Return True if the string is printable, False otherwise.\n",
      "    \n",
      "    A string is printable if all of its characters are considered printable in\n",
      "    repr() or if it is empty.\n",
      "\n"
     ]
    }
   ],
   "source": [
    "help(str.isprintable)"
   ]
  },
  {
   "cell_type": "code",
   "execution_count": 50,
   "id": "dbaa28c2",
   "metadata": {},
   "outputs": [
    {
     "data": {
      "text/plain": [
       "True"
      ]
     },
     "execution_count": 50,
     "metadata": {},
     "output_type": "execute_result"
    }
   ],
   "source": [
    "x=''\n",
    "x.isprintable()"
   ]
  },
  {
   "cell_type": "markdown",
   "id": "6d61621f",
   "metadata": {},
   "source": [
    "#### isidentifier()\n",
    "* it returns true if string is a valid identifier,otherwise it returns false.\n",
    "* a string is considered as a valid identifier if it is only contains alphabets,numericals,or underscores"
   ]
  },
  {
   "cell_type": "code",
   "execution_count": 54,
   "id": "d595b650",
   "metadata": {},
   "outputs": [
    {
     "name": "stdout",
     "output_type": "stream",
     "text": [
      "True\n",
      "True\n",
      "False\n"
     ]
    }
   ],
   "source": [
    "a='hello'\n",
    "b='helloworld'\n",
    "c='2hee'\n",
    "print(a.isidentifier(),b.isidentifier(),c.isidentifier(),sep='\\n')"
   ]
  },
  {
   "cell_type": "code",
   "execution_count": 55,
   "id": "141a03a6",
   "metadata": {},
   "outputs": [
    {
     "name": "stdout",
     "output_type": "stream",
     "text": [
      "Help on method_descriptor:\n",
      "\n",
      "isidentifier(self, /)\n",
      "    Return True if the string is a valid Python identifier, False otherwise.\n",
      "    \n",
      "    Call keyword.iskeyword(s) to test whether string s is a reserved identifier,\n",
      "    such as \"def\" or \"class\".\n",
      "\n"
     ]
    }
   ],
   "source": [
    "help(str.isidentifier)"
   ]
  },
  {
   "cell_type": "code",
   "execution_count": null,
   "id": "cef7f7e0",
   "metadata": {},
   "outputs": [],
   "source": []
  },
  {
   "cell_type": "code",
   "execution_count": null,
   "id": "72c98325",
   "metadata": {},
   "outputs": [],
   "source": []
  }
 ],
 "metadata": {
  "kernelspec": {
   "display_name": "Python 3 (ipykernel)",
   "language": "python",
   "name": "python3"
  },
  "language_info": {
   "codemirror_mode": {
    "name": "ipython",
    "version": 3
   },
   "file_extension": ".py",
   "mimetype": "text/x-python",
   "name": "python",
   "nbconvert_exporter": "python",
   "pygments_lexer": "ipython3",
   "version": "3.10.9"
  }
 },
 "nbformat": 4,
 "nbformat_minor": 5
}
